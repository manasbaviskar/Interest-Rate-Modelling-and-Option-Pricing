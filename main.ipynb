{
 "cells": [
  {
   "cell_type": "code",
   "execution_count": 1,
   "id": "851f5da4-1ad6-4c04-83de-5dbe990e38fe",
   "metadata": {},
   "outputs": [],
   "source": [
    "import numpy as np\n",
    "import pandas as pd\n",
    "from scipy.stats import norm\n",
    "from scipy.optimize import newton\n",
    "\n",
    "# Set up the environment for displaying output\n",
    "np.set_printoptions(threshold=np.inf, linewidth=200, suppress=True)\n",
    "pd.set_option('display.float_format', lambda x: '%.5f' % x)\n",
    "np.random.seed(9)"
   ]
  },
  {
   "cell_type": "code",
   "execution_count": 2,
   "id": "be3586af-c44d-4f51-ac92-8c12efe36561",
   "metadata": {},
   "outputs": [],
   "source": [
    "# Parameters\n",
    "r0 = 0.05\n",
    "r_mean = 0.05\n",
    "sd = 0.1\n",
    "kappa = 0.82\n",
    "F = 1000  # Face value of the bond"
   ]
  },
  {
   "cell_type": "code",
   "execution_count": 3,
   "id": "6525eb90-542b-4dd2-84af-a0e8463f6939",
   "metadata": {},
   "outputs": [
    {
     "name": "stdout",
     "output_type": "stream",
     "text": [
      "Price of Zero Coupon Bond under Vasicek: $ 976.01367\n"
     ]
    }
   ],
   "source": [
    "# Vasicek model for short-rate paths\n",
    "def generate_vasicek_paths(initial_rate, maturity, num_paths, num_steps):\n",
    "    dt = maturity / num_steps\n",
    "    rates = np.zeros((num_paths, num_steps + 1))\n",
    "    rates[:, 0] = initial_rate\n",
    "    for step in range(1, num_steps + 1):\n",
    "        rates[:, step] = rates[:, step - 1] + kappa * (r_mean - rates[:, step - 1]) * dt + \\\n",
    "                         sd * np.sqrt(dt) * np.random.normal(0, 1, num_paths)\n",
    "    return rates\n",
    "\n",
    "# Zero-Coupon Bond price under the Vasicek model\n",
    "def zero_coupon_bond_vasicek(initial_rate, t, maturity, face_value):\n",
    "    num_paths = 1000\n",
    "    num_steps = int(365 * (maturity - t))\n",
    "    dt = (maturity - t) / num_steps\n",
    "    short_rates = generate_vasicek_paths(initial_rate, maturity - t, num_paths, num_steps)\n",
    "    bond_prices = np.mean(face_value * np.exp(-np.sum(short_rates, axis=1) * dt))\n",
    "    return bond_prices\n",
    "\n",
    "print(\"Price of Zero Coupon Bond under Vasicek: $\", round(zero_coupon_bond_vasicek(r0, 0, 0.5, F), 5))"
   ]
  },
  {
   "cell_type": "code",
   "execution_count": 4,
   "id": "6468a045-9e91-419f-b120-9baf4995171b",
   "metadata": {},
   "outputs": [
    {
     "name": "stdout",
     "output_type": "stream",
     "text": [
      "Price of Coupon Paying Bond under Vasicek: $ 1052.3168050458744\n"
     ]
    }
   ],
   "source": [
    "def coupon_bond_vasicek(initial_rate, t, coupons, payment_dates):\n",
    "    zero_coupon_prices = [zero_coupon_bond_vasicek(initial_rate, t, maturity, coupon) \n",
    "                          for coupon, maturity in zip(coupons, payment_dates)]\n",
    "    return np.sum(zero_coupon_prices)\n",
    "\n",
    "coupons = [30] * 7 + [1030]\n",
    "payment_dates = np.arange(0.5, 4.5, 0.5)\n",
    "print(\"Price of Coupon Paying Bond under Vasicek: $\", coupon_bond_vasicek(r0, 0, coupons, payment_dates))"
   ]
  },
  {
   "cell_type": "code",
   "execution_count": 6,
   "id": "aa0860e9-97c8-4f01-a7a2-617d73b5eb80",
   "metadata": {},
   "outputs": [
    {
     "name": "stdout",
     "output_type": "stream",
     "text": [
      "Price of European Call Option on Zero Coupon Bond (Explicit Formula): $ 8.87486\n"
     ]
    }
   ],
   "source": [
    "#  European call option on zero coupon bond using explicit formula\n",
    "def zero_coupon_bond_explicit(short_rate, t, maturity, face_value):\n",
    "    B = (1 / kappa) * (1 - np.exp(-kappa * (maturity - t)))\n",
    "    A = np.exp(((r_mean - (sd ** 2) / (2 * kappa ** 2)) * (B - (maturity - t)) - (sd ** 2) / (4 * kappa) * B ** 2))\n",
    "    return face_value * A * np.exp(-B * short_rate)\n",
    "\n",
    "def european_call_option_explicit(t, maturity, strike_price, face_value):\n",
    "    num_paths = 15000\n",
    "    num_steps = int(365 * (maturity - t))\n",
    "    dt = (maturity - t) / num_steps\n",
    "    short_rates = generate_vasicek_paths(r0, t, num_paths, num_steps)\n",
    "    bond_prices = zero_coupon_bond_explicit(short_rates[:, -1], t, maturity, face_value)\n",
    "    payoffs = np.maximum(bond_prices - strike_price, 0)\n",
    "    option_price = np.mean(payoffs * np.exp(-np.sum(short_rates, axis=1) * dt))\n",
    "    return option_price\n",
    "\n",
    "print(\"Price of European Call Option on Zero Coupon Bond (Explicit Formula): $\", \n",
    "      round(european_call_option_explicit(0.25, 0.5, 980, F), 5))"
   ]
  },
  {
   "cell_type": "code",
   "execution_count": null,
   "id": "785b3b62-2b66-4397-a498-527c1f561856",
   "metadata": {},
   "outputs": [],
   "source": [
    "# European call option on coupon bond using Monte Carlo simulation\n",
    "def european_call_option_coupon_monte_carlo(t, strike_price, face_value, coupons, payment_dates):\n",
    "    num_paths = 1000\n",
    "    num_steps = int(365 * t)\n",
    "    dt = t / num_steps\n",
    "    short_rates = generate_vasicek_paths(r0, t, num_paths, num_steps)\n",
    "    bond_prices = np.array([coupon_bond_vasicek(rate, t, coupons, payment_dates) for rate in short_rates[:, -1]])\n",
    "    payoffs = np.maximum(bond_prices - strike_price, 0)\n",
    "    option_price = np.mean(payoffs * np.exp(-np.sum(short_rates, axis=1) * dt))\n",
    "    return option_price\n",
    "\n",
    "print(\"Price of European Call Option on Coupon Paying Bond (Monte Carlo Simulation): $\", \n",
    "      round(european_call_option_coupon_monte_carlo(0.25, 980, F, coupons, payment_dates), 5))"
   ]
  },
  {
   "cell_type": "code",
   "execution_count": null,
   "id": "222fd82a-4238-40e4-901e-6543e6e0dd14",
   "metadata": {},
   "outputs": [],
   "source": [
    "# Using the Black-Scholes formula for the European option on coupon bond\n",
    "def black_scholes_coupon_option(t, maturity, strike_price, coupons, payment_dates):\n",
    "    def f_opt(rate, maturity, payment_dates, coupons, strike_price):\n",
    "        PIs = np.array([PI(rate, maturity, payment_date) for payment_date in payment_dates])\n",
    "        return np.sum(coupons * PIs) - strike_price\n",
    "\n",
    "    def PI(rate, maturity, payment_date):\n",
    "        B = (1 / kappa) * (1 - np.exp(-kappa * (payment_date - maturity)))\n",
    "        A = np.exp((r_mean - (sd ** 2) / (2 * kappa ** 2)) * (B - (payment_date - maturity)) - (sd ** 2) / (4 * kappa) * B ** 2)\n",
    "        return A * np.exp(-B * rate)\n",
    "\n",
    "    r_star = newton(f_opt, 0, args=(maturity, payment_dates, coupons, strike_price))\n",
    "    PIs = np.array([PI(r_star, maturity, payment_date) for payment_date in payment_dates])\n",
    "\n",
    "    P_t_T = np.array([PI(r0, 0, payment_date) for payment_date in payment_dates])\n",
    "    sd_p = sd * (1 - np.exp(-kappa * (payment_dates - maturity)) / kappa) * np.sqrt((1 - np.exp(-2 * kappa * maturity)) / (2 * kappa))\n",
    "\n",
    "    d1 = np.log(P_t_T[0] / (strike_price * P_t_T[1])) / sd_p + sd_p / 2\n",
    "    d2 = d1 - sd_p\n",
    "\n",
    "    option_price = np.sum(coupons * (P_t_T[0] * norm.cdf(d1) - strike_price * P_t_T[1] * norm.cdf(d2)))\n",
    "    return option_price\n",
    "\n",
    "print(\"Price of European Call Option on Coupon Paying Bond (Black-Scholes Formula): $\", \n",
    "      round(black_scholes_coupon_option(0.25, 0.5, 980, coupons, payment_dates), 5))"
   ]
  },
  {
   "cell_type": "code",
   "execution_count": null,
   "id": "2e9d7f83-1d4b-48c9-9fe5-d18f41e20c23",
   "metadata": {},
   "outputs": [],
   "source": [
    "# (Cox-Ingersoll-Ross Model for interest rates)\n",
    "\n",
    "# European Call Option on Zero Coupon Bond under CIR model using Monte Carlo simulations\n",
    "def generate_cir_paths(initial_rate, sd, kappa, r_mean, maturity, num_paths, num_steps):\n",
    "    dt = maturity / num_steps\n",
    "    rates = np.zeros((num_paths, num_steps + 1))\n",
    "    rates[:, 0] = initial_rate\n",
    "    for step in range(1, num_steps + 1):\n",
    "        rates[:, step] = rates[:, step - 1] + kappa * (r_mean - rates[:, step - 1]) * dt + \\\n",
    "                         sd * np.sqrt(rates[:, step - 1]) * np.sqrt(dt) * np.random.normal(0, 1, num_paths)\n",
    "    return rates\n",
    "\n",
    "def zero_coupon_bond_cir(initial_rate, sd, kappa, r_mean, maturity, face_value):\n",
    "    num_paths = 1000\n",
    "    num_steps = int(365 * maturity)\n",
    "    dt = maturity / num_steps\n",
    "    short_rates = generate_cir_paths(initial_rate, sd, kappa, r_mean, maturity, num_paths, num_steps)\n",
    "    bond_prices = np.mean(face_value * np.exp(-np.sum(short_rates, axis=1) * dt))\n",
    "    return bond_prices\n",
    "\n",
    "def european_call_option_cir(initial_rate, sd, kappa, r_mean, maturity, strike_price, face_value):\n",
    "    num_paths = 1200\n",
    "    num_steps = int(365 * maturity)\n",
    "    dt = maturity / num_steps\n",
    "    short_rates = generate_cir_paths(initial_rate, sd, kappa, r_mean, maturity, num_paths, num_steps)\n",
    "    bond_prices = np.array([zero_coupon_bond_cir(rate, sd, kappa, r_mean, maturity, face_value) for rate in short_rates[:, -1]])\n",
    "    payoffs = np.maximum(bond_prices - strike_price, 0)\n",
    "    option_price = np.mean(payoffs * np.exp(-np.sum(short_rates, axis=1) * dt))\n",
    "    return option_price\n",
    "\n",
    "print(\"Price of European Call Option on Zero Coupon Bond under CIR (Monte Carlo Simulation): $\", \n",
    "      round(european_call_option_cir(r0, sd, kappa, r_mean, 0.5, 980, F), 5))"
   ]
  }
 ],
 "metadata": {
  "kernelspec": {
   "display_name": "Python 3 (ipykernel)",
   "language": "python",
   "name": "python3"
  },
  "language_info": {
   "codemirror_mode": {
    "name": "ipython",
    "version": 3
   },
   "file_extension": ".py",
   "mimetype": "text/x-python",
   "name": "python",
   "nbconvert_exporter": "python",
   "pygments_lexer": "ipython3",
   "version": "3.11.3"
  }
 },
 "nbformat": 4,
 "nbformat_minor": 5
}
